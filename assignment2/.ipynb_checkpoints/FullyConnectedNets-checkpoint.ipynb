{
 "cells": [
  {
   "cell_type": "markdown",
   "metadata": {
    "tags": [
     "pdf-title"
    ]
   },
   "source": [
    "# Fully-Connected Neural Nets\n",
    "In the previous homework you implemented a fully-connected two-layer neural network on CIFAR-10. The implementation was simple but not very modular since the loss and gradient were computed in a single monolithic function. This is manageable for a simple two-layer network, but would become impractical as we move to bigger models. Ideally we want to build networks using a more modular design so that we can implement different layer types in isolation and then snap them together into models with different architectures."
   ]
  },
  {
   "cell_type": "markdown",
   "metadata": {
    "tags": [
     "pdf-ignore"
    ]
   },
   "source": [
    "In this exercise we will implement fully-connected networks using a more modular approach. For each layer we will implement a `forward` and a `backward` function. The `forward` function will receive inputs, weights, and other parameters and will return both an output and a `cache` object storing data needed for the backward pass, like this:\n",
    "\n",
    "```python\n",
    "def layer_forward(x, w):\n",
    "  \"\"\" Receive inputs x and weights w \"\"\"\n",
    "  # Do some computations ...\n",
    "  z = # ... some intermediate value\n",
    "  # Do some more computations ...\n",
    "  out = # the output\n",
    "   \n",
    "  cache = (x, w, z, out) # Values we need to compute gradients\n",
    "   \n",
    "  return out, cache\n",
    "```\n",
    "\n",
    "The backward pass will receive upstream derivatives and the `cache` object, and will return gradients with respect to the inputs and weights, like this:\n",
    "\n",
    "```python\n",
    "def layer_backward(dout, cache):\n",
    "  \"\"\"\n",
    "  Receive dout (derivative of loss with respect to outputs) and cache,\n",
    "  and compute derivative with respect to inputs.\n",
    "  \"\"\"\n",
    "  # Unpack cache values\n",
    "  x, w, z, out = cache\n",
    "  \n",
    "  # Use values in cache to compute derivatives\n",
    "  dx = # Derivative of loss with respect to x\n",
    "  dw = # Derivative of loss with respect to w\n",
    "  \n",
    "  return dx, dw\n",
    "```\n",
    "\n",
    "After implementing a bunch of layers this way, we will be able to easily combine them to build classifiers with different architectures.\n",
    "\n",
    "In addition to implementing fully-connected networks of arbitrary depth, we will also explore different update rules for optimization, and introduce Dropout as a regularizer and Batch/Layer Normalization as a tool to more efficiently optimize deep networks.\n",
    "  "
   ]
  },
  {
   "cell_type": "code",
   "execution_count": 7,
   "metadata": {
    "tags": [
     "pdf-ignore"
    ]
   },
   "outputs": [
    {
     "name": "stdout",
     "output_type": "stream",
     "text": [
      "run the following from the cs231n directory and try again:\n",
      "python setup.py build_ext --inplace\n",
      "You may also need to restart your iPython kernel\n"
     ]
    }
   ],
   "source": [
    "# As usual, a bit of setup\n",
    "from __future__ import print_function\n",
    "import time\n",
    "import numpy as np\n",
    "import matplotlib.pyplot as plt\n",
    "from cs231n.classifiers.fc_net import *\n",
    "from cs231n.data_utils import get_CIFAR10_data\n",
    "from cs231n.gradient_check import eval_numerical_gradient, eval_numerical_gradient_array\n",
    "from cs231n.solver import Solver\n",
    "\n",
    "%matplotlib inline\n",
    "plt.rcParams['figure.figsize'] = (10.0, 8.0) # set default size of plots\n",
    "plt.rcParams['image.interpolation'] = 'nearest'\n",
    "plt.rcParams['image.cmap'] = 'gray'\n",
    "\n",
    "# for auto-reloading external modules\n",
    "# see http://stackoverflow.com/questions/1907993/autoreload-of-modules-in-ipython\n",
    "%load_ext autoreload\n",
    "%autoreload 2\n",
    "\n",
    "def rel_error(x, y):\n",
    "  \"\"\" returns relative error \"\"\"\n",
    "  return np.max(np.abs(x - y) / (np.maximum(1e-8, np.abs(x) + np.abs(y))))"
   ]
  },
  {
   "cell_type": "code",
   "execution_count": 8,
   "metadata": {
    "tags": [
     "pdf-ignore"
    ]
   },
   "outputs": [
    {
     "name": "stdout",
     "output_type": "stream",
     "text": [
      "('X_val: ', (1000, 3, 32, 32))\n",
      "('y_val: ', (1000,))\n",
      "('X_test: ', (1000, 3, 32, 32))\n",
      "('X_train: ', (49000, 3, 32, 32))\n",
      "('y_train: ', (49000,))\n",
      "('y_test: ', (1000,))\n"
     ]
    }
   ],
   "source": [
    "# Load the (preprocessed) CIFAR10 data.\n",
    "\n",
    "data = get_CIFAR10_data()\n",
    "for k, v in list(data.items()):\n",
    "  print(('%s: ' % k, v.shape))"
   ]
  },
  {
   "cell_type": "markdown",
   "metadata": {},
   "source": [
    "# Affine layer: foward\n",
    "Open the file `cs231n/layers.py` and implement the `affine_forward` function.\n",
    "\n",
    "Once you are done you can test your implementaion by running the following:"
   ]
  },
  {
   "cell_type": "code",
   "execution_count": 9,
   "metadata": {},
   "outputs": [
    {
     "name": "stdout",
     "output_type": "stream",
     "text": [
      "Testing affine_forward function:\n",
      "difference:  9.769847728806635e-10\n"
     ]
    }
   ],
   "source": [
    "# Test the affine_forward function\n",
    "\n",
    "num_inputs = 2\n",
    "input_shape = (4, 5, 6)\n",
    "output_dim = 3\n",
    "\n",
    "input_size = num_inputs * np.prod(input_shape)\n",
    "weight_size = output_dim * np.prod(input_shape)\n",
    "\n",
    "x = np.linspace(-0.1, 0.5, num=input_size).reshape(num_inputs, *input_shape)\n",
    "w = np.linspace(-0.2, 0.3, num=weight_size).reshape(np.prod(input_shape), output_dim)\n",
    "b = np.linspace(-0.3, 0.1, num=output_dim)\n",
    "\n",
    "out, _ = affine_forward(x, w, b)\n",
    "correct_out = np.array([[ 1.49834967,  1.70660132,  1.91485297],\n",
    "                        [ 3.25553199,  3.5141327,   3.77273342]])\n",
    "\n",
    "# Compare your output with ours. The error should be around e-9 or less.\n",
    "print('Testing affine_forward function:')\n",
    "print('difference: ', rel_error(out, correct_out))"
   ]
  },
  {
   "cell_type": "code",
   "execution_count": 10,
   "metadata": {},
   "outputs": [
    {
     "name": "stdout",
     "output_type": "stream",
     "text": [
      "w.shape:    (120, 3)\n",
      "x.shape:    (2, 4, 5, 6)\n",
      "b.shape:    (3,)\n",
      "correct_out.shape:  (2, 3)\n",
      "out.shape:  (2, 3)\n"
     ]
    }
   ],
   "source": [
    "print(\"w.shape:   \", w.shape)\n",
    "print(\"x.shape:   \", x.shape)\n",
    "print(\"b.shape:   \", b.shape)\n",
    "print(\"correct_out.shape: \", correct_out.shape)\n",
    "print(\"out.shape: \", out.shape)\n",
    "\n",
    "\"\"\"\n",
    "w.shape:    (120, 3)\n",
    "x.shape:    (2, 4, 5, 6)\n",
    "b.shape:    (3,)\n",
    "out.shape:  (2,3)\n",
    "correct_out.shape:\n",
    "            (2,3)\n",
    "\"\"\"\n",
    "None"
   ]
  },
  {
   "cell_type": "markdown",
   "metadata": {},
   "source": [
    "# Affine layer: backward\n",
    "Now implement the `affine_backward` function and test your implementation using numeric gradient checking."
   ]
  },
  {
   "cell_type": "code",
   "execution_count": 11,
   "metadata": {},
   "outputs": [
    {
     "name": "stdout",
     "output_type": "stream",
     "text": [
      "Testing affine_backward function:\n",
      "dx error:  5.399100368651805e-11\n",
      "dw error:  9.904211865398145e-11\n",
      "db error:  2.4122867568119087e-11\n"
     ]
    }
   ],
   "source": [
    "# Test the affine_backward function\n",
    "np.random.seed(231)\n",
    "x = np.random.randn(10, 2, 3)\n",
    "w = np.random.randn(6, 5)\n",
    "b = np.random.randn(5)\n",
    "dout = np.random.randn(10, 5)\n",
    "\n",
    "dx_num = eval_numerical_gradient_array(lambda x: affine_forward(x, w, b)[0], x, dout)\n",
    "dw_num = eval_numerical_gradient_array(lambda w: affine_forward(x, w, b)[0], w, dout)\n",
    "db_num = eval_numerical_gradient_array(lambda b: affine_forward(x, w, b)[0], b, dout)\n",
    "\n",
    "_, cache = affine_forward(x, w, b)\n",
    "\n",
    "dx, dw, db = affine_backward(dout, cache)\n",
    "\n",
    "# The error should be around e-10 or less\n",
    "print('Testing affine_backward function:')\n",
    "print('dx error: ', rel_error(dx_num, dx))\n",
    "print('dw error: ', rel_error(dw_num, dw))\n",
    "print('db error: ', rel_error(db_num, db))"
   ]
  },
  {
   "cell_type": "markdown",
   "metadata": {},
   "source": [
    "# ReLU activation: forward\n",
    "Implement the forward pass for the ReLU activation function in the `relu_forward` function and test your implementation using the following:"
   ]
  },
  {
   "cell_type": "code",
   "execution_count": 12,
   "metadata": {},
   "outputs": [
    {
     "name": "stdout",
     "output_type": "stream",
     "text": [
      "Testing relu_forward function:\n",
      "difference:  4.999999798022158e-08\n"
     ]
    }
   ],
   "source": [
    "# Test the relu_forward function\n",
    "\n",
    "x = np.linspace(-0.5, 0.5, num=12).reshape(3, 4)\n",
    "\n",
    "out, _ = relu_forward(x)\n",
    "correct_out = np.array([[ 0.,          0.,          0.,          0.,        ],\n",
    "                        [ 0.,          0.,          0.04545455,  0.13636364,],\n",
    "                        [ 0.22727273,  0.31818182,  0.40909091,  0.5,       ]])\n",
    "\n",
    "# Compare your output with ours. The error should be on the order of e-8\n",
    "print('Testing relu_forward function:')\n",
    "print('difference: ', rel_error(out, correct_out))"
   ]
  },
  {
   "cell_type": "markdown",
   "metadata": {},
   "source": [
    "# ReLU activation: backward\n",
    "Now implement the backward pass for the ReLU activation function in the `relu_backward` function and test your implementation using numeric gradient checking:"
   ]
  },
  {
   "cell_type": "code",
   "execution_count": 13,
   "metadata": {},
   "outputs": [
    {
     "name": "stdout",
     "output_type": "stream",
     "text": [
      "Testing relu_backward function:\n",
      "dx error:  3.2756349136310288e-12\n"
     ]
    }
   ],
   "source": [
    "np.random.seed(231)\n",
    "x = np.random.randn(10, 10)\n",
    "dout = np.random.randn(*x.shape)\n",
    "\n",
    "dx_num = eval_numerical_gradient_array(lambda x: relu_forward(x)[0], x, dout)\n",
    "\n",
    "_, cache = relu_forward(x)\n",
    "dx = relu_backward(dout, cache)\n",
    "\n",
    "# The error should be on the order of e-12\n",
    "print('Testing relu_backward function:')\n",
    "print('dx error: ', rel_error(dx_num, dx))"
   ]
  },
  {
   "cell_type": "markdown",
   "metadata": {
    "tags": [
     "pdf-inline"
    ]
   },
   "source": [
    "## Inline Question 1: \n",
    "\n",
    "We've only asked you to implement ReLU, but there are a number of different activation functions that one could use in neural networks, each with its pros and cons. In particular, an issue commonly seen with activation functions is getting zero (or close to zero) gradient flow during backpropagation. Which of the following activation functions have this problem? If you consider these functions in the one dimensional case, what types of input would lead to this behaviour?\n",
    "1. Sigmoid\n",
    "2. ReLU\n",
    "3. Leaky ReLU\n",
    "\n",
    "## Answer:\n",
    "Answer to the first question: Sigmoid is the only function that has this problem.\n",
    "\n",
    "Answer to the second question:\n",
    "Inputs very far from zero (if we call the inputs \"x\",   |x| >> 0 make the derivatives near zero, causing the partial derivative \"gradient\" to be close to zero).  It's easier to see in the graph; say the input is x=10; the gradient f'(10) == 4.5e-5; very very close to zero.  The same is true for an input of x=-10; f'(-10)==4.5e-5.\n",
    "\n",
    "![The sigmoid function](https://upload.wikimedia.org/wikipedia/commons/8/88/Logistic-curve.svg)\n"
   ]
  },
  {
   "cell_type": "markdown",
   "metadata": {},
   "source": [
    "# \"Sandwich\" layers\n",
    "There are some common patterns of layers that are frequently used in neural nets. For example, affine layers are frequently followed by a ReLU nonlinearity. To make these common patterns easy, we define several convenience layers in the file `cs231n/layer_utils.py`.\n",
    "\n",
    "For now take a look at the `affine_relu_forward` and `affine_relu_backward` functions, and run the following to numerically gradient check the backward pass:"
   ]
  },
  {
   "cell_type": "code",
   "execution_count": 14,
   "metadata": {},
   "outputs": [
    {
     "name": "stdout",
     "output_type": "stream",
     "text": [
      "Testing affine_relu_forward and affine_relu_backward:\n",
      "dx error:  6.750562121603446e-11\n",
      "dw error:  8.162015570444288e-11\n",
      "db error:  7.826724021458994e-12\n"
     ]
    }
   ],
   "source": [
    "from cs231n.layer_utils import affine_relu_forward, affine_relu_backward\n",
    "np.random.seed(231)\n",
    "x = np.random.randn(2, 3, 4)\n",
    "w = np.random.randn(12, 10)\n",
    "b = np.random.randn(10)\n",
    "dout = np.random.randn(2, 10)\n",
    "\n",
    "out, cache = affine_relu_forward(x, w, b)\n",
    "dx, dw, db = affine_relu_backward(dout, cache)\n",
    "\n",
    "dx_num = eval_numerical_gradient_array(lambda x: affine_relu_forward(x, w, b)[0], x, dout)\n",
    "dw_num = eval_numerical_gradient_array(lambda w: affine_relu_forward(x, w, b)[0], w, dout)\n",
    "db_num = eval_numerical_gradient_array(lambda b: affine_relu_forward(x, w, b)[0], b, dout)\n",
    "\n",
    "# Relative error should be around e-10 or less\n",
    "print('Testing affine_relu_forward and affine_relu_backward:')\n",
    "print('dx error: ', rel_error(dx_num, dx))\n",
    "print('dw error: ', rel_error(dw_num, dw))\n",
    "print('db error: ', rel_error(db_num, db))"
   ]
  },
  {
   "cell_type": "markdown",
   "metadata": {},
   "source": [
    "# Loss layers: Softmax and SVM\n",
    "You implemented these loss functions in the last assignment, so we'll give them to you for free here. You should still make sure you understand how they work by looking at the implementations in `cs231n/layers.py`.\n",
    "\n",
    "You can make sure that the implementations are correct by running the following:"
   ]
  },
  {
   "cell_type": "code",
   "execution_count": 15,
   "metadata": {},
   "outputs": [
    {
     "name": "stdout",
     "output_type": "stream",
     "text": [
      "Testing svm_loss:\n",
      "loss:  8.999602749096233\n",
      "dx error:  1.4021566006651672e-09\n",
      "\n",
      "Testing softmax_loss:\n",
      "loss:  2.302545844500738\n",
      "dx error:  9.384673161989355e-09\n"
     ]
    }
   ],
   "source": [
    "np.random.seed(231)\n",
    "num_classes, num_inputs = 10, 50\n",
    "x = 0.001 * np.random.randn(num_inputs, num_classes)\n",
    "y = np.random.randint(num_classes, size=num_inputs)\n",
    "\n",
    "dx_num = eval_numerical_gradient(lambda x: svm_loss(x, y)[0], x, verbose=False)\n",
    "loss, dx = svm_loss(x, y)\n",
    "\n",
    "# Test svm_loss function. Loss should be around 9 and dx error should be around the order of e-9\n",
    "print('Testing svm_loss:')\n",
    "print('loss: ', loss)\n",
    "print('dx error: ', rel_error(dx_num, dx))\n",
    "\n",
    "dx_num = eval_numerical_gradient(lambda x: softmax_loss(x, y)[0], x, verbose=False)\n",
    "loss, dx = softmax_loss(x, y)\n",
    "\n",
    "# Test softmax_loss function. Loss should be close to 2.3 and dx error should be around e-8\n",
    "print('\\nTesting softmax_loss:')\n",
    "print('loss: ', loss)\n",
    "print('dx error: ', rel_error(dx_num, dx))"
   ]
  },
  {
   "cell_type": "markdown",
   "metadata": {},
   "source": [
    "# Two-layer network\n",
    "In the previous assignment you implemented a two-layer neural network in a single monolithic class. Now that you have implemented modular versions of the necessary layers, you will reimplement the two layer network using these modular implementations.\n",
    "\n",
    "Open the file `cs231n/classifiers/fc_net.py` and complete the implementation of the `TwoLayerNet` class. This class will serve as a model for the other networks you will implement in this assignment, so read through it to make sure you understand the API. You can run the cell below to test your implementation."
   ]
  },
  {
   "cell_type": "code",
   "execution_count": 16,
   "metadata": {},
   "outputs": [],
   "source": [
    "# Notes on fc_net.py's TwoLayerNet class' API:\n",
    "\n",
    "'''\n",
    "    The architecture should be affine - relu - affine - softmax.\n",
    "    \n",
    "    \n",
    "    ********** Solver object **********\n",
    "        Note that this class does not implement gradient descent; instead, it\n",
    "    will interact with a separate Solver object that is responsible for running\n",
    "    optimization.\n",
    "    ********** Solver object **********    \n",
    "    \n",
    "    self.params={}\n",
    "    self.params['W'] = np.array(\n",
    "   [[1,2,3, ...     ],\n",
    "    [4,-5,0,-9.1,...],\n",
    "   ])\n",
    "    self.params['b'] = np.array(\n",
    "   [[...],\n",
    "    [...],\n",
    "    .\n",
    "    .\n",
    "    .\n",
    "    ]\n",
    "    )\n",
    "    \n",
    "    \n",
    "\n",
    "'''\n",
    "None"
   ]
  },
  {
   "cell_type": "code",
   "execution_count": 17,
   "metadata": {},
   "outputs": [
    {
     "name": "stdout",
     "output_type": "stream",
     "text": [
      "Testing initialization ... \n",
      "Testing test-time forward pass ... \n",
      "Testing training loss (no regularization)\n",
      "Running numeric gradient check with reg =  0.0\n",
      "W1 relative error: 1.22e-08\n",
      "W2 relative error: 3.48e-10\n",
      "b1 relative error: 6.55e-09\n",
      "b2 relative error: 4.33e-10\n",
      "Running numeric gradient check with reg =  0.7\n",
      "W1 relative error: 8.18e-07\n",
      "W2 relative error: 2.85e-08\n",
      "b1 relative error: 1.09e-09\n",
      "b2 relative error: 7.76e-10\n"
     ]
    }
   ],
   "source": [
    "np.random.seed(231)\n",
    "N, D, H, C = 3, 5, 50, 7\n",
    "X = np.random.randn(N, D)\n",
    "y = np.random.randint(C, size=N)\n",
    "\n",
    "std = 1e-3\n",
    "model = TwoLayerNet(input_dim=D, hidden_dim=H, num_classes=C, weight_scale=std)\n",
    "\n",
    "print('Testing initialization ... ')\n",
    "W1_std = abs(model.params['W1'].std() - std)\n",
    "b1 = model.params['b1']\n",
    "W2_std = abs(model.params['W2'].std() - std)\n",
    "b2 = model.params['b2']\n",
    "assert W1_std < std / 10, 'First layer weights do not seem right'\n",
    "assert np.all(b1 == 0), 'First layer biases do not seem right'\n",
    "assert W2_std < std / 10, 'Second layer weights do not seem right'\n",
    "assert np.all(b2 == 0), 'Second layer biases do not seem right'\n",
    "\n",
    "print('Testing test-time forward pass ... ')\n",
    "model.params['W1'] = np.linspace(-0.7, 0.3, num=D*H).reshape(D, H)\n",
    "model.params['b1'] = np.linspace(-0.1, 0.9, num=H)\n",
    "model.params['W2'] = np.linspace(-0.3, 0.4, num=H*C).reshape(H, C)\n",
    "model.params['b2'] = np.linspace(-0.9, 0.1, num=C)\n",
    "X = np.linspace(-5.5, 4.5, num=N*D).reshape(D, N).T\n",
    "scores = model.loss(X)\n",
    "correct_scores = np.asarray(\n",
    "  [[11.53165108,  12.2917344,   13.05181771,  13.81190102,  14.57198434, 15.33206765,  16.09215096],\n",
    "   [12.05769098,  12.74614105,  13.43459113,  14.1230412,   14.81149128, 15.49994135,  16.18839143],\n",
    "   [12.58373087,  13.20054771,  13.81736455,  14.43418138,  15.05099822, 15.66781506,  16.2846319 ]])\n",
    "scores_diff = np.abs(scores - correct_scores).sum()\n",
    "assert scores_diff < 1e-6, 'Problem with test-time forward pass'\n",
    "\n",
    "print('Testing training loss (no regularization)')\n",
    "y = np.asarray([0, 5, 1])\n",
    "loss, grads = model.loss(X, y)\n",
    "correct_loss = 3.4702243556\n",
    "assert abs(loss - correct_loss) < 1e-10, 'Problem with training-time loss'\n",
    "\n",
    "model.reg = 1.0\n",
    "loss, grads = model.loss(X, y)\n",
    "correct_loss = 26.5948426952\n",
    "assert abs(loss - correct_loss) < 1e-10, 'Problem with regularization loss'\n",
    "\n",
    "# Errors should be around e-7 or less\n",
    "for reg in [0.0, 0.7]:\n",
    "  print('Running numeric gradient check with reg = ', reg)\n",
    "  model.reg = reg\n",
    "  loss, grads = model.loss(X, y)\n",
    "\n",
    "  for name in sorted(grads):\n",
    "    f = lambda _: model.loss(X, y)[0]\n",
    "    grad_num = eval_numerical_gradient(f, model.params[name], verbose=False)\n",
    "    print('%s relative error: %.2e' % (name, rel_error(grad_num, grads[name])))"
   ]
  },
  {
   "cell_type": "markdown",
   "metadata": {},
   "source": [
    "# Solver\n",
    "In the previous assignment, the logic for training models was coupled to the models themselves. Following a more modular design, for this assignment we have split the logic for training models into a separate class.\n",
    "\n",
    "Open the file `cs231n/solver.py` and read through it to familiarize yourself with the API. After doing so, use a `Solver` instance to train a `TwoLayerNet` that achieves at least `50%` accuracy on the validation set."
   ]
  },
  {
   "cell_type": "code",
   "execution_count": 18,
   "metadata": {},
   "outputs": [],
   "source": [
    "# print(x.shape) # (50,10)\n",
    "# print(X.shape) # ( 3, 5)"
   ]
  },
  {
   "cell_type": "code",
   "execution_count": 19,
   "metadata": {},
   "outputs": [
    {
     "name": "stdout",
     "output_type": "stream",
     "text": [
      "dict_keys(['X_val', 'y_val', 'X_test', 'X_train', 'y_train', 'y_test'])\n"
     ]
    }
   ],
   "source": [
    "#print(len(data)) # 6\n",
    "print(data.keys())"
   ]
  },
  {
   "cell_type": "code",
   "execution_count": 20,
   "metadata": {},
   "outputs": [
    {
     "name": "stdout",
     "output_type": "stream",
     "text": [
      "(Iteration 1 / 4900) loss: 2.304060\n",
      "(Epoch 0 / 10) train acc: 0.116000; val_acc: 0.094000\n",
      "(Iteration 201 / 4900) loss: 1.857390\n",
      "(Iteration 401 / 4900) loss: 1.420187\n",
      "(Epoch 1 / 10) train acc: 0.407000; val_acc: 0.422000\n",
      "(Iteration 601 / 4900) loss: 1.700510\n",
      "(Iteration 801 / 4900) loss: 1.688361\n",
      "(Epoch 2 / 10) train acc: 0.497000; val_acc: 0.468000\n",
      "(Iteration 1001 / 4900) loss: 1.385772\n",
      "(Iteration 1201 / 4900) loss: 1.641580\n",
      "(Iteration 1401 / 4900) loss: 1.172536\n",
      "(Epoch 3 / 10) train acc: 0.490000; val_acc: 0.466000\n",
      "(Iteration 1601 / 4900) loss: 1.268492\n",
      "(Iteration 1801 / 4900) loss: 1.395750\n",
      "(Epoch 4 / 10) train acc: 0.532000; val_acc: 0.497000\n",
      "(Iteration 2001 / 4900) loss: 1.343165\n",
      "(Iteration 2201 / 4900) loss: 1.276734\n",
      "(Iteration 2401 / 4900) loss: 1.352778\n",
      "(Epoch 5 / 10) train acc: 0.525000; val_acc: 0.475000\n",
      "(Iteration 2601 / 4900) loss: 1.276361\n",
      "(Iteration 2801 / 4900) loss: 1.271688\n",
      "(Epoch 6 / 10) train acc: 0.546000; val_acc: 0.509000\n",
      "(Iteration 3001 / 4900) loss: 1.304489\n",
      "(Iteration 3201 / 4900) loss: 1.325510\n",
      "(Iteration 3401 / 4900) loss: 1.402001\n",
      "(Epoch 7 / 10) train acc: 0.567000; val_acc: 0.505000\n",
      "(Iteration 3601 / 4900) loss: 1.153287\n",
      "(Iteration 3801 / 4900) loss: 1.093164\n",
      "(Epoch 8 / 10) train acc: 0.568000; val_acc: 0.490000\n",
      "(Iteration 4001 / 4900) loss: 1.191735\n",
      "(Iteration 4201 / 4900) loss: 1.227283\n",
      "(Iteration 4401 / 4900) loss: 1.327583\n",
      "(Epoch 9 / 10) train acc: 0.592000; val_acc: 0.504000\n",
      "(Iteration 4601 / 4900) loss: 1.445619\n",
      "(Iteration 4801 / 4900) loss: 1.005175\n",
      "(Epoch 10 / 10) train acc: 0.611000; val_acc: 0.512000\n"
     ]
    }
   ],
   "source": [
    "model = TwoLayerNet()\n",
    "solver = None\n",
    "\n",
    "##############################################################################\n",
    "# TODO: Use a Solver instance to train a TwoLayerNet that achieves at least  #\n",
    "# 50% accuracy on the validation set.                                        #\n",
    "##############################################################################\n",
    "# *****START OF YOUR CODE (DO NOT DELETE/MODIFY THIS LINE)*****\n",
    "\n",
    "data_names=[k for k in data.keys() if 'test' not in k]\n",
    "data_dict_4_solver={\n",
    "    data_name: data[data_name] for data_name in data_names\n",
    "}\n",
    "    # ie. 'X_train' : data['X_train']\n",
    "    #     'X_val'   : data['X_val']\n",
    "    # \"data\" was initialized using \"get_CIFAR10_data()\" near the top of this jupyter notebook\n",
    "solver = Solver(\n",
    "    model,\n",
    "    data_dict_4_solver,\n",
    "    update_rule='sgd',\n",
    "    optim_config={\n",
    "        'learning_rate': 1e-3,\n",
    "    },\n",
    "    lr_decay=0.95,\n",
    "    batch_size=100,\n",
    "    num_epochs=10,\n",
    "    print_every=200\n",
    ")\n",
    "solver.train()\n",
    "\n",
    "\n",
    "# *****END OF YOUR CODE (DO NOT DELETE/MODIFY THIS LINE)*****\n",
    "##############################################################################\n",
    "#                             END OF YOUR CODE                               #\n",
    "##############################################################################"
   ]
  },
  {
   "cell_type": "code",
   "execution_count": 21,
   "metadata": {
    "scrolled": true
   },
   "outputs": [
    {
     "data": {
      "image/png": "[encoded data removed]",
      "text/plain": [
       "<Figure size 1080x864 with 2 Axes>"
      ]
     },
     "metadata": {
      "needs_background": "light"
     },
     "output_type": "display_data"
    }
   ],
   "source": [
    "# Run this cell to visualize training loss and train / val accuracy\n",
    "\n",
    "plt.subplot(2, 1, 1)\n",
    "plt.title('Training loss')\n",
    "plt.plot(solver.loss_history, 'o')\n",
    "plt.xlabel('Iteration')\n",
    "\n",
    "plt.subplot(2, 1, 2)\n",
    "plt.title('Accuracy')\n",
    "plt.plot(solver.train_acc_history, '-o', label='train')\n",
    "plt.plot(solver.val_acc_history, '-o', label='val')\n",
    "plt.plot([0.5] * len(solver.val_acc_history), 'k--')\n",
    "plt.xlabel('Epoch')\n",
    "plt.legend(loc='lower right')\n",
    "plt.gcf().set_size_inches(15, 12)\n",
    "plt.show()"
   ]
  },
  {
   "cell_type": "markdown",
   "metadata": {},
   "source": [
    "# Multilayer network\n",
    "Next you will implement a fully-connected network with an arbitrary number of hidden layers.\n",
    "\n",
    "Read through the `FullyConnectedNet` class in the file `cs231n/classifiers/fc_net.py`.\n",
    "\n",
    "Implement the initialization, the forward pass, and the backward pass. For the moment don't worry about implementing dropout or batch/layer normalization; we will add those features soon."
   ]
  },
  {
   "cell_type": "code",
   "execution_count": 22,
   "metadata": {},
   "outputs": [
    {
     "data": {
      "text/plain": [
       "'\\n\\n'"
      ]
     },
     "execution_count": 22,
     "metadata": {},
     "output_type": "execute_result"
    }
   ],
   "source": [
    "# class \"FullyConnectedNet\"   's API:\n",
    "'''\n",
    "For a network with L layers, the architecture will be:\n",
    "    {affine - [batch/layer norm] - relu - [dropout]} x (L - 1) - affine - softmax\n",
    "'''    \n",
    "\n",
    "\n",
    "'''\n",
    "This class will also implement\n",
    "    dropout and\n",
    "    batch/layer normalization\n",
    "\n",
    "as options\n",
    "\n",
    "'''\n",
    "\n",
    "#\n",
    "\n",
    "'''\n",
    "Like in the TwoLayerNet class,\n",
    "\n",
    "    Learnable parameters are stored in\n",
    "        the self.params dictionary \n",
    "        and will be learned using the Solver class\n",
    "'''\n",
    "\n",
    "#\n",
    "\n",
    "'''\n",
    "\n",
    "'''\n",
    "\n",
    "#\n"
   ]
  },
  {
   "cell_type": "markdown",
   "metadata": {},
   "source": [
    "## Initial loss and gradient check\n",
    "\n",
    "As a sanity check, run the following to check the initial loss and to gradient check the network both with and without regularization. Do the initial losses seem reasonable?\n",
    "\n",
    "For gradient checking, you should expect to see errors around 1e-7 or less."
   ]
  },
  {
   "cell_type": "code",
   "execution_count": 23,
   "metadata": {},
   "outputs": [
    {
     "name": "stdout",
     "output_type": "stream",
     "text": [
      "Running check with reg =  0\n",
      "Initial loss:  2.3004790897684924\n",
      "W1 relative error: 1.48e-07\n",
      "W2 relative error: 2.21e-05\n",
      "W3 relative error: 3.53e-07\n",
      "b1 relative error: 5.38e-09\n",
      "b2 relative error: 2.09e-09\n",
      "b3 relative error: 5.80e-11\n",
      "Running check with reg =  3.14\n",
      "Initial loss:  7.052114776533016\n",
      "W1 relative error: 7.36e-09\n",
      "W2 relative error: 6.87e-08\n",
      "W3 relative error: 3.48e-08\n",
      "b1 relative error: 1.48e-08\n",
      "b2 relative error: 1.72e-09\n",
      "b3 relative error: 1.80e-10\n"
     ]
    }
   ],
   "source": [
    "np.random.seed(231)\n",
    "N, D, H1, H2, C = 2, 15, 20, 30, 10\n",
    "X = np.random.randn(N, D)\n",
    "y = np.random.randint(C, size=(N,))\n",
    "\n",
    "for reg in [0, 3.14]:\n",
    "  print('Running check with reg = ', reg)\n",
    "  model = FullyConnectedNet([H1, H2], input_dim=D, num_classes=C,\n",
    "                            reg=reg, weight_scale=5e-2, dtype=np.float64)\n",
    "\n",
    "  loss, grads = model.loss(X, y)\n",
    "  print('Initial loss: ', loss)\n",
    "  \n",
    "  # Most of the errors should be on the order of e-7 or smaller.   \n",
    "  # NOTE: It is fine however to see an error for W2 on the order of e-5\n",
    "  # for the check when reg = 0.0\n",
    "  for name in sorted(grads):\n",
    "    f = lambda _: model.loss(X, y)[0]\n",
    "    grad_num = eval_numerical_gradient(f, model.params[name], verbose=False, h=1e-5)\n",
    "    print('%s relative error: %.2e' % (name, rel_error(grad_num, grads[name])))"
   ]
  },
  {
   "cell_type": "code",
   "execution_count": 24,
   "metadata": {},
   "outputs": [
    {
     "ename": "AttributeError",
     "evalue": "'FullyConnectedNet' object has no attribute 'debug_info'",
     "output_type": "error",
     "traceback": [
      "\u001b[0;31m---------------------------------------------------------------------------\u001b[0m",
      "\u001b[0;31mAttributeError\u001b[0m                            Traceback (most recent call last)",
      "\u001b[0;32m<ipython-input-24-51a7ab6825ff>\u001b[0m in \u001b[0;36m<module>\u001b[0;34m\u001b[0m\n\u001b[1;32m      1\u001b[0m \u001b[0mmodel\u001b[0m\u001b[0;34m.\u001b[0m\u001b[0mparams\u001b[0m\u001b[0;34m.\u001b[0m\u001b[0mkeys\u001b[0m\u001b[0;34m(\u001b[0m\u001b[0;34m)\u001b[0m \u001b[0;31m# dict_keys(['b1', 'b3', 'W1', 'W2', 'W3', 'b2'])\u001b[0m\u001b[0;34m\u001b[0m\u001b[0m\n\u001b[0;32m----> 2\u001b[0;31m \u001b[0mmodel\u001b[0m\u001b[0;34m.\u001b[0m\u001b[0mdebug_info\u001b[0m\u001b[0;34m.\u001b[0m\u001b[0mkeys\u001b[0m\u001b[0;34m(\u001b[0m\u001b[0;34m)\u001b[0m \u001b[0;31m# odict_keys(['b1', 'b3', 'W1', 'W2', 'W3', 'b2'])\u001b[0m\u001b[0;34m\u001b[0m\u001b[0m\n\u001b[0m\u001b[1;32m      3\u001b[0m \u001b[0;32mfor\u001b[0m \u001b[0mi\u001b[0m \u001b[0;32min\u001b[0m \u001b[0mrange\u001b[0m\u001b[0;34m(\u001b[0m\u001b[0mlen\u001b[0m\u001b[0;34m(\u001b[0m\u001b[0;34m[\u001b[0m\u001b[0mH1\u001b[0m\u001b[0;34m,\u001b[0m \u001b[0mH2\u001b[0m\u001b[0;34m]\u001b[0m\u001b[0;34m)\u001b[0m \u001b[0;34m+\u001b[0m\u001b[0;36m1\u001b[0m   \u001b[0;34m)\u001b[0m\u001b[0;34m:\u001b[0m\u001b[0;34m\u001b[0m\u001b[0m\n\u001b[1;32m      4\u001b[0m     print(\"   (model.params['W{0}']).shape == {1}\".format(\n\u001b[1;32m      5\u001b[0m         i+1, (model.params['W'+str(i+1)]).shape )\n",
      "\u001b[0;31mAttributeError\u001b[0m: 'FullyConnectedNet' object has no attribute 'debug_info'"
     ]
    }
   ],
   "source": [
    "model.params.keys() # dict_keys(['b1', 'b3', 'W1', 'W2', 'W3', 'b2'])\n",
    "model.debug_info.keys() # odict_keys(['b1', 'b3', 'W1', 'W2', 'W3', 'b2'])\n",
    "for i in range(len([H1, H2]) +1   ):\n",
    "    print(\"   (model.params['W{0}']).shape == {1}\".format(\n",
    "        i+1, (model.params['W'+str(i+1)]).shape )\n",
    "    )\n",
    "    \n",
    "\"\"\"\n",
    "Success!\n",
    "\n",
    "   (model.params['W1']).shape  :(15, 20)\n",
    "   (model.params['W2']).shape  :(20, 30)\n",
    "   (model.params['W3']).shape  :(30, 10)\n",
    "\n",
    "\"\"\"\n",
    "None"
   ]
  },
  {
   "cell_type": "markdown",
   "metadata": {},
   "source": [
    "As another sanity check, make sure you can overfit a small dataset of 50 images. First we will try a three-layer network with 100 units in each hidden layer. In the following cell, tweak the **learning rate** and **weight initialization scale** to overfit and achieve 100% training accuracy within 20 epochs."
   ]
  },
  {
   "cell_type": "code",
   "execution_count": 25,
   "metadata": {
    "scrolled": false
   },
   "outputs": [
    {
     "name": "stdout",
     "output_type": "stream",
     "text": [
      "(Iteration 1 / 40) loss: 20.835795\n",
      "(Epoch 0 / 20) train acc: 0.200000; val_acc: 0.111000\n",
      "(Epoch 1 / 20) train acc: 0.360000; val_acc: 0.138000\n",
      "(Epoch 2 / 20) train acc: 0.540000; val_acc: 0.144000\n",
      "(Epoch 3 / 20) train acc: 0.760000; val_acc: 0.138000\n",
      "(Epoch 4 / 20) train acc: 0.840000; val_acc: 0.157000\n",
      "(Epoch 5 / 20) train acc: 0.940000; val_acc: 0.171000\n",
      "(Iteration 11 / 40) loss: 0.033952\n",
      "(Epoch 6 / 20) train acc: 0.940000; val_acc: 0.181000\n",
      "(Epoch 7 / 20) train acc: 0.960000; val_acc: 0.178000\n",
      "(Epoch 8 / 20) train acc: 0.960000; val_acc: 0.171000\n",
      "(Epoch 9 / 20) train acc: 0.980000; val_acc: 0.163000\n",
      "(Epoch 10 / 20) train acc: 0.980000; val_acc: 0.164000\n",
      "(Iteration 21 / 40) loss: 0.047349\n",
      "(Epoch 11 / 20) train acc: 1.000000; val_acc: 0.163000\n",
      "(Epoch 12 / 20) train acc: 1.000000; val_acc: 0.162000\n",
      "(Epoch 13 / 20) train acc: 1.000000; val_acc: 0.162000\n",
      "(Epoch 14 / 20) train acc: 1.000000; val_acc: 0.163000\n",
      "(Epoch 15 / 20) train acc: 1.000000; val_acc: 0.164000\n",
      "(Iteration 31 / 40) loss: 0.004752\n",
      "(Epoch 16 / 20) train acc: 1.000000; val_acc: 0.162000\n",
      "(Epoch 17 / 20) train acc: 1.000000; val_acc: 0.163000\n",
      "(Epoch 18 / 20) train acc: 1.000000; val_acc: 0.162000\n",
      "(Epoch 19 / 20) train acc: 1.000000; val_acc: 0.165000\n",
      "(Epoch 20 / 20) train acc: 1.000000; val_acc: 0.165000\n"
     ]
    },
    {
     "data": {
      "image/png": "[encoded data removed]",
      "text/plain": [
       "<Figure size 432x288 with 1 Axes>"
      ]
     },
     "metadata": {
      "needs_background": "light"
     },
     "output_type": "display_data"
    }
   ],
   "source": [
    "# TODO: Use a three-layer Net to overfit 50 training examples by \n",
    "# tweaking just the learning rate and initialization scale.\n",
    "\n",
    "num_train = 50\n",
    "small_data = {\n",
    "  'X_train': data['X_train'][:num_train],\n",
    "  'y_train': data['y_train'][:num_train],\n",
    "  'X_val': data['X_val'],\n",
    "  'y_val': data['y_val'],\n",
    "}\n",
    "\n",
    "weight_scale  = 3.872881e-02  #9e-2  # Experiment with this!\n",
    "learning_rate = 1.956705e-03  #5e-3  # Experiment with this!             # was 1e-4 initially.  1e-3 made the loss at least go down.  1e-2 got us to 100% training accuracy (0.19 val_acc, though; overfitting)\n",
    "\n",
    "# correct answers someone got:\n",
    "#weight_scale = 3.862881e-02 #1e-2\n",
    "#learning_rate = 1.946705e-03 #1e-4\n",
    "\n",
    "#for weight_scale in weight_scales:\n",
    "    #for learning_rate in learning_rates:\n",
    "model = FullyConnectedNet([100, 100],\n",
    "              weight_scale=weight_scale, dtype=np.float64)\n",
    "solver = Solver(model, small_data,\n",
    "                print_every=10, num_epochs=20, batch_size=25,\n",
    "                update_rule='sgd',\n",
    "                optim_config={\n",
    "                  'learning_rate': learning_rate,\n",
    "                }\n",
    "         )\n",
    "solver.train()\n",
    "\n",
    "plt.plot(solver.loss_history, 'o')\n",
    "plt.title('Training loss history')\n",
    "plt.xlabel('Iteration')\n",
    "plt.ylabel('Training loss')\n",
    "plt.show()"
   ]
  },
  {
   "cell_type": "markdown",
   "metadata": {},
   "source": [
    "Now try to use a five-layer network with 100 units on each layer to overfit 50 training examples. Again, you will have to adjust the learning rate and weight initialization scale, but you should be able to achieve 100% training accuracy within 20 epochs."
   ]
  },
  {
   "cell_type": "code",
   "execution_count": 26,
   "metadata": {},
   "outputs": [],
   "source": [
    "num_train = 50\n",
    "small_data = {\n",
    "  'X_train': data['X_train'][:num_train],\n",
    "  'y_train': data['y_train'][:num_train],\n",
    "  'X_val': data['X_val'],\n",
    "  'y_val': data['y_val'],\n",
    "}\n"
   ]
  },
  {
   "cell_type": "code",
   "execution_count": 27,
   "metadata": {},
   "outputs": [
    {
     "name": "stdout",
     "output_type": "stream",
     "text": [
      "154.8493469387755\n",
      "-138.5578775510204\n"
     ]
    }
   ],
   "source": [
    "#small_data['X_train'].shape # (50, 3, 32, 32)\n",
    "print(np.max(small_data['X_train'])) #  154.8493469387755\n",
    "print(np.min(small_data['X_train'])) # -138.557....\n"
   ]
  },
  {
   "cell_type": "code",
   "execution_count": 28,
   "metadata": {},
   "outputs": [
    {
     "name": "stdout",
     "output_type": "stream",
     "text": [
      "(Iteration 1 / 40) loss: 2.709880\n",
      "(Epoch 0 / 20) train acc: 0.060000; val_acc: 0.112000\n",
      "(Epoch 1 / 20) train acc: 0.120000; val_acc: 0.116000\n",
      "(Epoch 2 / 20) train acc: 0.220000; val_acc: 0.126000\n",
      "(Epoch 3 / 20) train acc: 0.320000; val_acc: 0.129000\n",
      "(Epoch 4 / 20) train acc: 0.320000; val_acc: 0.123000\n",
      "(Epoch 5 / 20) train acc: 0.420000; val_acc: 0.131000\n",
      "(Iteration 11 / 40) loss: 1.919742\n",
      "(Epoch 6 / 20) train acc: 0.440000; val_acc: 0.122000\n",
      "(Epoch 7 / 20) train acc: 0.480000; val_acc: 0.124000\n",
      "(Epoch 8 / 20) train acc: 0.560000; val_acc: 0.122000\n",
      "(Epoch 9 / 20) train acc: 0.540000; val_acc: 0.139000\n",
      "(Epoch 10 / 20) train acc: 0.600000; val_acc: 0.139000\n",
      "(Iteration 21 / 40) loss: 1.604761\n",
      "(Epoch 11 / 20) train acc: 0.640000; val_acc: 0.145000\n",
      "(Epoch 12 / 20) train acc: 0.640000; val_acc: 0.151000\n",
      "(Epoch 13 / 20) train acc: 0.640000; val_acc: 0.140000\n",
      "(Epoch 14 / 20) train acc: 0.680000; val_acc: 0.139000\n",
      "(Epoch 15 / 20) train acc: 0.680000; val_acc: 0.144000\n",
      "(Iteration 31 / 40) loss: 1.490521\n",
      "(Epoch 16 / 20) train acc: 0.720000; val_acc: 0.146000\n",
      "(Epoch 17 / 20) train acc: 0.780000; val_acc: 0.140000\n",
      "(Epoch 18 / 20) train acc: 0.740000; val_acc: 0.145000\n",
      "(Epoch 19 / 20) train acc: 0.820000; val_acc: 0.131000\n",
      "(Epoch 20 / 20) train acc: 0.780000; val_acc: 0.149000\n"
     ]
    },
    {
     "data": {
      "image/png": "[encoded data removed]",
      "text/plain": [
       "<Figure size 432x288 with 1 Axes>"
      ]
     },
     "metadata": {
      "needs_background": "light"
     },
     "output_type": "display_data"
    }
   ],
   "source": [
    "# TODO: Use a five-layer Net to overfit 50 training examples by \n",
    "# tweaking just the learning rate and initialization scale.\n",
    "\n",
    "num_train = 50\n",
    "small_data = {\n",
    "  'X_train': data['X_train'][:num_train],\n",
    "  'y_train': data['y_train'][:num_train],\n",
    "  'X_val': data['X_val'],\n",
    "  'y_val': data['y_val'],\n",
    "}\n",
    "\n",
    "# best loss so far:      lr          ws\n",
    "#\n",
    "#   1.9                 2e-1        1e-2\n",
    "#\n",
    "#\n",
    "#\n",
    "#\n",
    "#\n",
    "#\n",
    "#\n",
    "\n",
    "#   the lr was set earlier.\n",
    "#learning_rate =  3.872881e-02 #5e-3  # Experiment with this!\n",
    "# learning_rate was initially 2e-3.  I tried 2e-2, which didn't get the loss to 0 in the end.\n",
    "# Neither did 2e-1\n",
    "# 2e-0   or (nor did)\n",
    "# 2e+1   or\n",
    "# 2e+2     (at this point, the loss is exploding.  lr definitely definitely too high)\n",
    "# \n",
    "\n",
    "\n",
    "#   the weight_scale was set earlier.\n",
    "#weight_scale  = 3.872881e-02 #8e-1  # Experiment with this!\n",
    "# \"weight_scale\" was initially 1e-5.   I tried 1e-2; was this too high?  We got an overflow in numpy.\n",
    "# 1e-4   loss doesn't go to 0\n",
    "# 1e-3\n",
    "#          lr=2e-1  and ws=1e-1   gave us nans repeatedly\n",
    "#\n",
    "# combo of lr=2e+0  and ws=1e-2   gave us nans repeatedly.\n",
    "#          lr=2e+1  and ws=1e-2   also gave repeated nans.\n",
    "#\n",
    "#          lr=2e-1  and ws=1e-2   almost worked?\n",
    "#          lr=2e-1  and ws=1e-3   also sort of works\n",
    "#\n",
    "#          lr=9e+1  and ws=1e-5   is TRASH.  It goes up to loss==60\n",
    "model = FullyConnectedNet([100, 100, 100, 100],\n",
    "                weight_scale=weight_scale, dtype=np.float64)\n",
    "solver = Solver(model, small_data,\n",
    "                print_every=10, num_epochs=20, batch_size=25,\n",
    "                update_rule='sgd',\n",
    "                optim_config={\n",
    "                  'learning_rate': learning_rate,\n",
    "                }\n",
    "         )\n",
    "solver.train()\n",
    "\n",
    "plt.plot(solver.loss_history, 'o')\n",
    "plt.title('Training loss history')\n",
    "plt.xlabel('Iteration')\n",
    "plt.ylabel('Training loss')\n",
    "plt.show()"
   ]
  },
  {
   "cell_type": "markdown",
   "metadata": {},
   "source": [
    "#dir(model) \n",
    "'''\n",
    "['__class__',\n",
    " '__delattr__',\n",
    " '__dict__',\n",
    " '__dir__',\n",
    " '__doc__',\n",
    " '__eq__',\n",
    " '__format__',\n",
    " '__ge__',\n",
    " '__getattribute__',\n",
    " '__gt__',\n",
    " '__hash__',\n",
    " '__init__',\n",
    " '__le__',\n",
    " '__lt__',\n",
    " '__module__',\n",
    " '__ne__',\n",
    " '__new__',\n",
    " '__reduce__',\n",
    " '__reduce_ex__',\n",
    " '__repr__',\n",
    " '__setattr__',\n",
    " '__sizeof__',\n",
    " '__str__',\n",
    " '__subclasshook__',\n",
    " '__weakref__',\n",
    " 'bn_params',\n",
    " 'debug_info',\n",
    " 'dropout_param',\n",
    " 'dtype',\n",
    " 'loss',\n",
    " 'normalization',\n",
    " 'num_layers',\n",
    " 'params',\n",
    " 'reg',\n",
    " 'use_dropout']\n",
    "\n",
    "\n",
    "'''\n",
    "print(model.params)\n",
    "\n",
    "import pickle as pkl\n",
    "fname=\"model___.pkl\"\n",
    "with open(fname, 'wb') as fp:\n",
    "    pkl.dump(model, fp)"
   ]
  },
  {
   "cell_type": "code",
   "execution_count": 30,
   "metadata": {},
   "outputs": [
    {
     "data": {
      "image/png": "[encoded data removed]",
      "text/plain": [
       "<Figure size 432x288 with 1 Axes>"
      ]
     },
     "metadata": {
      "needs_background": "light"
     },
     "output_type": "display_data"
    }
   ],
   "source": [
    "#weight_scale=8e-1   initialized earlier\n",
    "H=100\n",
    "model = FullyConnectedNet([H, H, H, H],\n",
    "                weight_scale=weight_scale, dtype=np.float64)\n",
    "#print(model.params)\n",
    "\n",
    "lr=learning_rate\n",
    "n_iters=10\n",
    "\n",
    "W1_vals=[]\n",
    "W2_vals=[]\n",
    "W3_vals=[]\n",
    "W4_vals=[]\n",
    "W5_vals=[]\n",
    "\n",
    "# training   loop:\n",
    "for i in range(n_iters):\n",
    "    # Calculate partial derivatives :\n",
    "    #      AKA (\"grads\" or \"gradients\")\n",
    "    loss, grads = model.loss(small_data['X_train'], small_data['y_train'])\n",
    "    \n",
    "    # gather weights to plot() later:\n",
    "    W1_vals.append(   np.linalg.norm(model.params['W1'])   )\n",
    "    W2_vals.append(   np.linalg.norm(model.params['W2'])   )\n",
    "    W3_vals.append(   np.linalg.norm(model.params['W3'])   )\n",
    "    W4_vals.append(   np.linalg.norm(model.params['W4'])   )\n",
    "    W5_vals.append(   np.linalg.norm(model.params['W5'])   )\n",
    "\n",
    "    #=======================================\n",
    "    # Update model parameters:\n",
    "    #=======================================\n",
    "    \n",
    "    for param in model.params.keys():\n",
    "        # Vanilla SGD:\n",
    "        model.params[param] -= grads[param].reshape(model.params[param].shape)\\\n",
    "                               * lr\n",
    "\n",
    "X=np.arange(n_iters)\n",
    "plt.plot(X, W1_vals, '-o', label='W1')\n",
    "plt.show()\n",
    "None"
   ]
  },
  {
   "cell_type": "code",
   "execution_count": 31,
   "metadata": {},
   "outputs": [],
   "source": [
    "len(grads)\n",
    "\n",
    "# plot:\n",
    "'''\n",
    "  1.  np.linalg.norm(weights)   # magnitude(weights)\n",
    "  2.  Distributions of firing?\n",
    "\n",
    "  3.  I guess we'll just figure it out, right?\n",
    "    a.  (Stochastic tinkering)\n",
    "\n",
    "'''\n",
    "None"
   ]
  },
  {
   "cell_type": "code",
   "execution_count": 32,
   "metadata": {},
   "outputs": [
    {
     "name": "stdout",
     "output_type": "stream",
     "text": [
      "dict_keys(['W5', 'W3', 'b2', 'b1', 'W4', 'b4', 'b3', 'W2', 'W1', 'b5'])\n",
      "dict_keys(['W3', 'W5', 'b2', 'W4', 'b1', 'b3', 'W2', 'W1', 'b4', 'b5'])\n"
     ]
    }
   ],
   "source": [
    "len(model.params)\n",
    "for key in model.params.keys():\n",
    "    if key not in grads.keys():\n",
    "        print(\"The key in model that's not in grads different key is    \",key)\n",
    "\n",
    "print(grads.keys())\n",
    "print(model.params.keys())"
   ]
  },
  {
   "cell_type": "code",
   "execution_count": 33,
   "metadata": {},
   "outputs": [],
   "source": [
    "#\n",
    "# Examine the weights one layer at a time,      \n",
    "#   1 training iteration at a time.\n",
    "#"
   ]
  },
  {
   "cell_type": "code",
   "execution_count": 34,
   "metadata": {},
   "outputs": [],
   "source": [
    "# initialize NN:\n",
    "weight_scale=8e-2\n",
    "H=100\n",
    "model = FullyConnectedNet([H, H, H, H],\n",
    "                weight_scale=weight_scale, dtype=np.float64)\n",
    "#print(model.params)\n",
    "\n",
    "lr=learning_rate\n",
    "n_iters=10\n",
    "\n",
    "W1_vals=[]\n",
    "W2_vals=[]\n",
    "W3_vals=[]\n",
    "W4_vals=[]\n",
    "W5_vals=[]"
   ]
  },
  {
   "cell_type": "code",
   "execution_count": 35,
   "metadata": {},
   "outputs": [],
   "source": [
    "def nathan_norm(X):\n",
    "    return np.mean(\n",
    "             np.abs(\n",
    "               X))"
   ]
  },
  {
   "cell_type": "code",
   "execution_count": 36,
   "metadata": {
    "scrolled": true
   },
   "outputs": [
    {
     "name": "stdout",
     "output_type": "stream",
     "text": [
      "0.06383414029485315\n",
      "0.06375788391137134\n",
      "0.06466740428877699\n",
      "0.06401304785131788\n",
      "0.06415227452696286\n",
      "0.001956705\n",
      "0.08\n"
     ]
    }
   ],
   "source": [
    "# INITIAL weights\n",
    "print(nathan_norm(model.params['W1'])) # 0.6387639530754136\n",
    "print(nathan_norm(model.params['W2'])) # 0.6338071857451346\n",
    "print(nathan_norm(model.params['W3'])) # 0.6466988766614912\n",
    "print(nathan_norm(model.params['W4'])) # 0.6411206483383503\n",
    "print(nathan_norm(model.params['W5'])) # 0.6227080416835916\n",
    "\n",
    "print(lr)\n",
    "print(weight_scale)\n",
    "\n",
    "'''\n",
    "    0.005      lr\n",
    "    0.800      weight_scale (Gaussian w/ stdev == 0.8)\n",
    "'''\n",
    "None"
   ]
  },
  {
   "cell_type": "code",
   "execution_count": 37,
   "metadata": {},
   "outputs": [
    {
     "name": "stdout",
     "output_type": "stream",
     "text": [
      "0.0028921176474351546\n",
      "0.014710027704511186\n",
      "0.01234967487203046\n",
      "0.01082714148949891\n",
      "0.034516199177734824\n"
     ]
    }
   ],
   "source": [
    "print(nathan_norm(grads['W1'])) # 1124.2367713624808\n",
    "print(nathan_norm(grads['W2'])) # 5708.599205297234\n",
    "print(nathan_norm(grads['W3'])) # 5488.759530452886\n",
    "print(nathan_norm(grads['W4'])) # 5091.847740995163\n",
    "print(nathan_norm(grads['W5'])) #17782.73721538418"
   ]
  },
  {
   "cell_type": "code",
   "execution_count": 38,
   "metadata": {},
   "outputs": [
    {
     "data": {
      "text/plain": [
       "0.0006656325694683039"
      ]
     },
     "execution_count": 38,
     "metadata": {},
     "output_type": "execute_result"
    }
   ],
   "source": [
    "# BAD metric (too small)\n",
    "#np.linalg.norm( model.params['W1']   ) /    ((model.params['W1']).size)   #0.0014423506255615305\n",
    "np.linalg.norm( model.params['W1'] , ord=1  ) / ((model.params['W1']).size) # 0.006684215672798174\n",
    "# I'm not sure what the 1 norm is actually doing.  I'm gonna just use the metric below instead."
   ]
  },
  {
   "cell_type": "code",
   "execution_count": 39,
   "metadata": {},
   "outputs": [
    {
     "data": {
      "text/plain": [
       "0.0638318018890811"
      ]
     },
     "execution_count": 39,
     "metadata": {},
     "output_type": "execute_result"
    }
   ],
   "source": [
    "# GOOD measure of the weights (at least, it's one I understand)\n",
    "np.mean(np.abs(np.random.randn(100)*weight_scale)) # 0.621    for weight_scale=8e-1 (0.8)\n",
    "\n"
   ]
  },
  {
   "cell_type": "code",
   "execution_count": 40,
   "metadata": {},
   "outputs": [],
   "source": [
    "#0.8==8e-1 # True"
   ]
  },
  {
   "cell_type": "code",
   "execution_count": 41,
   "metadata": {},
   "outputs": [],
   "source": [
    "# initialize NN:\n",
    "#weight_scale=   this was initialized earlier\n",
    "H=100\n",
    "model = FullyConnectedNet([H, H, H, H],\n",
    "                weight_scale=weight_scale, dtype=np.float64)\n",
    "#print(model.params)\n",
    "\n",
    "lr=learning_rate\n",
    "n_iters=10\n",
    "\n",
    "W1_vals=[]\n",
    "W2_vals=[]\n",
    "W3_vals=[]\n",
    "W4_vals=[]\n",
    "W5_vals=[]"
   ]
  },
  {
   "cell_type": "code",
   "execution_count": 42,
   "metadata": {},
   "outputs": [],
   "source": [
    "n_iters=1\n",
    "for i in range(n_iters):\n",
    "    # 1 training iteration\n",
    "    loss, grads = model.loss(small_data['X_train'], small_data['y_train'])\n",
    "\n",
    "    # gather weights to plot() later:\n",
    "    W1_vals.append(   nathan_norm(model.params['W1'])   )\n",
    "    W2_vals.append(   nathan_norm(model.params['W2'])   )\n",
    "    W3_vals.append(   nathan_norm(model.params['W3'])   )\n",
    "    W4_vals.append(   nathan_norm(model.params['W4'])   )\n",
    "    W5_vals.append(   nathan_norm(model.params['W5'])   )\n",
    "\n",
    "    #=======================================\n",
    "    # Update model parameters:\n",
    "    #=======================================\n",
    "\n",
    "    for param in model.params.keys():\n",
    "        # Vanilla SGD:\n",
    "        model.params[param] -= grads[param].reshape(model.params[param].shape)\\\n",
    "                               * lr\n",
    "\n",
    "    # Regularize (I'm like 90% sure I wrote the regularization into the gradients   last night in \"def loss()\"):\n",
    "    '''\n",
    "    model.params['W1'] -= reg*grads['W1'] * lr\n",
    "    model.params['W2'] -= reg*grads['W2'] * lr\n",
    "    model.params['W3'] -= reg*grads['W3'] * lr\n",
    "    model.params['W4'] -= reg*grads['W4'] * lr\n",
    "    model.params['W5'] -= reg*grads['W5'] * lr\n",
    "    '''\n"
   ]
  },
  {
   "cell_type": "code",
   "execution_count": 43,
   "metadata": {
    "scrolled": true
   },
   "outputs": [
    {
     "name": "stdout",
     "output_type": "stream",
     "text": [
      "\n",
      " weights:\n",
      "0.06384770760654987\n",
      "0.06363588410997952\n",
      "0.06381164246737243\n",
      "0.06427482042010134\n",
      "0.06480462737529466\n",
      "\n",
      " grads:\n",
      "0.14729406225850314\n",
      "1.2153446769375755\n",
      "1.2980905070984565\n",
      "1.3496429870573\n",
      "3.594122070928275\n",
      "\n",
      " learning rate   and weight_scale:\n",
      "0.001956705\n",
      "0.08\n"
     ]
    }
   ],
   "source": [
    "#  weights after N  training iters:\n",
    "print('\\n weights:')\n",
    "print(nathan_norm(model.params['W1'])) # 0.6387639530754136\n",
    "print(nathan_norm(model.params['W2'])) # 0.6338071857451346\n",
    "print(nathan_norm(model.params['W3'])) # 0.6466988766614912\n",
    "print(nathan_norm(model.params['W4'])) # 0.6411206483383503\n",
    "print(nathan_norm(model.params['W5'])) # 0.6227080416835916\n",
    "\n",
    "print('\\n grads:')\n",
    "print(nathan_norm(grads['W1'])) # 1124.2367713624808\n",
    "print(nathan_norm(grads['W2'])) # 5708.599205297234\n",
    "print(nathan_norm(grads['W3'])) # 5488.759530452886\n",
    "print(nathan_norm(grads['W4'])) # 5091.847740995163\n",
    "print(nathan_norm(grads['W5'])) #17782.73721538418\n",
    "\n",
    "print(\"\\n learning rate   and weight_scale:\")\n",
    "print(lr)\n",
    "print(weight_scale)\n",
    "\n",
    "\n",
    "'''\n",
    "Learning Rate and    weight_scale:\n",
    "        0.005                 0.8\n",
    "\n",
    "0.005                lr\n",
    "0.8                  weight_scale\n",
    "\n",
    "\n",
    "\n",
    "nathan_norm(         param_name)\n",
    "2000.5058808950148   curr_W1\n",
    "16886.219213174412   curr_W2\n",
    "17960.88839935589    curr_W3\n",
    "19877.794604457507   curr_W4\n",
    "64707.44301283418    curr_W5\n",
    "  exploding.  Regularize?  Lower weight scale(s)?  Lower \"lr\" ?\n",
    "\n",
    "\n",
    "\n",
    "\n",
    "\n",
    "nathan_norm(grads[   param_name])\n",
    "1270.1669603496819   W1\n",
    "10721.412210590623   W2\n",
    "11403.721291910964   W3\n",
    "12620.765159023329   W4\n",
    "41084.03129835343    W5\n",
    "\n",
    "\n",
    "\n",
    "\n",
    "    0.005      lr\n",
    "    0.800      weight_scale (Gaussian w/ stdev == 0.8)\n",
    "'''\n",
    "None"
   ]
  },
  {
   "cell_type": "code",
   "execution_count": 44,
   "metadata": {},
   "outputs": [
    {
     "name": "stdout",
     "output_type": "stream",
     "text": [
      "0.14729406225850314\n",
      "1.2153446769375755\n",
      "1.2980905070984565\n",
      "1.3496429870573\n",
      "3.594122070928275\n"
     ]
    }
   ],
   "source": [
    "print(nathan_norm(grads['W1'])) # 1124.2367713624808\n",
    "print(nathan_norm(grads['W2'])) # 5708.599205297234\n",
    "print(nathan_norm(grads['W3'])) # 5488.759530452886\n",
    "print(nathan_norm(grads['W4'])) # 5091.847740995163\n",
    "print(nathan_norm(grads['W5'])) #17782.73721538418"
   ]
  },
  {
   "cell_type": "markdown",
   "metadata": {},
   "source": [
    "# Lots of these cells were just for debugging & understanding how the weights blow up when weight_scale is too big."
   ]
  },
  {
   "cell_type": "code",
   "execution_count": 45,
   "metadata": {},
   "outputs": [
    {
     "data": {
      "image/png": "[encoded data removed]",
      "text/plain": [
       "<Figure size 432x288 with 1 Axes>"
      ]
     },
     "metadata": {
      "needs_background": "light"
     },
     "output_type": "display_data"
    }
   ],
   "source": [
    "X=np.arange(n_iters)\n",
    "plt.plot(X, W1_vals, '-o', label='W1')\n",
    "plt.show()\n"
   ]
  },
  {
   "cell_type": "markdown",
   "metadata": {
    "tags": [
     "pdf-inline"
    ]
   },
   "source": [
    "## Inline Question 2: \n",
    "Did you notice anything about the comparative difficulty of training the three-layer net vs training the five layer net? In particular, based on your experience, which network seemed more sensitive to the initialization scale? Why do you think that is the case?\n",
    "\n",
    "## Answer:\n",
    "The 5-layer is harder to train.  Harder to initialize.  Probably b/c a more complex model takes more caution to use properly; by definition, it's more complex.\n"
   ]
  },
  {
   "cell_type": "markdown",
   "metadata": {},
   "source": [
    "# Update rules\n",
    "So far we have used vanilla stochastic gradient descent (SGD) as our update rule. More sophisticated update rules can make it easier to train deep networks. We will implement a few of the most commonly used update rules and compare them to vanilla SGD."
   ]
  },
  {
   "cell_type": "markdown",
   "metadata": {},
   "source": [
    "# SGD+Momentum\n",
    "Stochastic gradient descent with momentum is a widely used update rule that tends to make deep networks converge faster than vanilla stochastic gradient descent. See the Momentum Update section at http://cs231n.github.io/neural-networks-3/#sgd for more information.\n",
    "\n",
    "Open the file `cs231n/optim.py` and read the documentation at the top of the file to make sure you understand the API. Implement the SGD+momentum update rule in the function `sgd_momentum` and run the following to check your implementation. You should see errors less than e-8."
   ]
  },
  {
   "cell_type": "code",
   "execution_count": 46,
   "metadata": {},
   "outputs": [
    {
     "name": "stdout",
     "output_type": "stream",
     "text": [
      "next_w error:  8.882347033505819e-09\n",
      "velocity error:  4.269287743278663e-09\n"
     ]
    }
   ],
   "source": [
    "from cs231n.optim import sgd_momentum\n",
    "\n",
    "N, D  = 4, 5\n",
    "w     = np.linspace(-0.4, 0.6, num=N*D).reshape(N, D)\n",
    "dw    = np.linspace(-0.6, 0.4, num=N*D).reshape(N, D)\n",
    "v     = np.linspace(0.6, 0.9, num=N*D).reshape(N, D)\n",
    "\n",
    "config= {'learning_rate': 1e-3, 'velocity': v}\n",
    "next_w, _ = sgd_momentum(w, dw, config=config)\n",
    "\n",
    "expected_next_w = np.asarray([\n",
    "  [ 0.1406,      0.20738947,  0.27417895,  0.34096842,  0.40775789],\n",
    "  [ 0.47454737,  0.54133684,  0.60812632,  0.67491579,  0.74170526],\n",
    "  [ 0.80849474,  0.87528421,  0.94207368,  1.00886316,  1.07565263],\n",
    "  [ 1.14244211,  1.20923158,  1.27602105,  1.34281053,  1.4096    ]])\n",
    "expected_velocity = np.asarray([\n",
    "  [ 0.5406,      0.55475789,  0.56891579, 0.58307368,  0.59723158],\n",
    "  [ 0.61138947,  0.62554737,  0.63970526,  0.65386316,  0.66802105],\n",
    "  [ 0.68217895,  0.69633684,  0.71049474,  0.72465263,  0.73881053],\n",
    "  [ 0.75296842,  0.76712632,  0.78128421,  0.79544211,  0.8096    ]])\n",
    "\n",
    "# Should see relative errors around e-8 or less\n",
    "print('next_w error: ', rel_error(next_w, expected_next_w))\n",
    "print('velocity error: ', rel_error(expected_velocity, config['velocity']))"
   ]
  },
  {
   "cell_type": "markdown",
   "metadata": {},
   "source": [
    "Once you have done so, run the following to train a six-layer network with both SGD and SGD+momentum. You should see the SGD+momentum update rule converge faster."
   ]
  },
  {
   "cell_type": "code",
   "execution_count": 47,
   "metadata": {
    "scrolled": false
   },
   "outputs": [
    {
     "name": "stdout",
     "output_type": "stream",
     "text": [
      "running with  sgd\n",
      "(Iteration 1 / 200) loss: 2.707120\n",
      "(Epoch 0 / 5) train acc: 0.113000; val_acc: 0.104000\n",
      "(Iteration 11 / 200) loss: 2.334126\n",
      "(Iteration 21 / 200) loss: 2.222264\n",
      "(Iteration 31 / 200) loss: 2.146382\n",
      "(Epoch 1 / 5) train acc: 0.243000; val_acc: 0.189000\n",
      "(Iteration 41 / 200) loss: 2.189191\n",
      "(Iteration 51 / 200) loss: 2.140551\n",
      "(Iteration 61 / 200) loss: 2.139546\n",
      "(Iteration 71 / 200) loss: 2.060645\n",
      "(Epoch 2 / 5) train acc: 0.247000; val_acc: 0.216000\n",
      "(Iteration 81 / 200) loss: 2.033094\n",
      "(Iteration 91 / 200) loss: 1.979242\n",
      "(Iteration 101 / 200) loss: 1.937621\n",
      "(Iteration 111 / 200) loss: 1.936412\n",
      "(Epoch 3 / 5) train acc: 0.293000; val_acc: 0.240000\n",
      "(Iteration 121 / 200) loss: 1.956088\n",
      "(Iteration 131 / 200) loss: 1.913052\n",
      "(Iteration 141 / 200) loss: 1.973813\n",
      "(Iteration 151 / 200) loss: 1.872423\n",
      "(Epoch 4 / 5) train acc: 0.329000; val_acc: 0.277000\n",
      "(Iteration 161 / 200) loss: 1.938755\n",
      "(Iteration 171 / 200) loss: 2.004743\n",
      "(Iteration 181 / 200) loss: 1.913956\n",
      "(Iteration 191 / 200) loss: 1.787033\n",
      "(Epoch 5 / 5) train acc: 0.356000; val_acc: 0.296000\n",
      "\n",
      "running with  sgd_momentum\n",
      "(Iteration 1 / 200) loss: 2.649867\n",
      "(Epoch 0 / 5) train acc: 0.115000; val_acc: 0.102000\n",
      "(Iteration 11 / 200) loss: 2.221387\n",
      "(Iteration 21 / 200) loss: 2.045717\n",
      "(Iteration 31 / 200) loss: 1.910278\n",
      "(Epoch 1 / 5) train acc: 0.347000; val_acc: 0.282000\n",
      "(Iteration 41 / 200) loss: 1.921228\n",
      "(Iteration 51 / 200) loss: 1.826605\n",
      "(Iteration 61 / 200) loss: 1.912370\n",
      "(Iteration 71 / 200) loss: 1.911348\n",
      "(Epoch 2 / 5) train acc: 0.359000; val_acc: 0.300000\n",
      "(Iteration 81 / 200) loss: 1.640106\n",
      "(Iteration 91 / 200) loss: 1.891105\n",
      "(Iteration 101 / 200) loss: 1.692607\n",
      "(Iteration 111 / 200) loss: 1.471453\n",
      "(Epoch 3 / 5) train acc: 0.454000; val_acc: 0.339000\n",
      "(Iteration 121 / 200) loss: 1.526002\n",
      "(Iteration 131 / 200) loss: 1.630663\n",
      "(Iteration 141 / 200) loss: 1.438134\n",
      "(Iteration 151 / 200) loss: 1.659542\n",
      "(Epoch 4 / 5) train acc: 0.464000; val_acc: 0.309000\n",
      "(Iteration 161 / 200) loss: 1.573820\n",
      "(Iteration 171 / 200) loss: 1.397634\n",
      "(Iteration 181 / 200) loss: 1.548131\n",
      "(Iteration 191 / 200) loss: 1.252012\n",
      "(Epoch 5 / 5) train acc: 0.527000; val_acc: 0.310000\n",
      "\n"
     ]
    },
    {
     "name": "stderr",
     "output_type": "stream",
     "text": [
      "/usr/local/lib/python3.5/dist-packages/matplotlib/figure.py:98: MatplotlibDeprecationWarning: \n",
      "Adding an axes using the same arguments as a previous axes currently reuses the earlier instance.  In a future version, a new instance will always be created and returned.  Meanwhile, this warning can be suppressed, and the future behavior ensured, by passing a unique label to each axes instance.\n",
      "  \"Adding an axes using the same arguments as a previous axes \"\n"
     ]
    },
    {
     "data": {
      "image/png": "[encoded data removed]",
      "text/plain": [
       "<Figure size 1080x1080 with 3 Axes>"
      ]
     },
     "metadata": {
      "needs_background": "light"
     },
     "output_type": "display_data"
    }
   ],
   "source": [
    "num_train = 4000\n",
    "small_data = {\n",
    "  'X_train': data['X_train'][:num_train],\n",
    "  'y_train': data['y_train'][:num_train],\n",
    "  'X_val': data['X_val'],\n",
    "  'y_val': data['y_val'],\n",
    "}\n",
    "\n",
    "solvers = {}\n",
    "\n",
    "for update_rule in ['sgd', 'sgd_momentum']:\n",
    "  print('running with ', update_rule)\n",
    "  model = FullyConnectedNet([100, 100, 100, 100, 100], weight_scale=5e-2)\n",
    "\n",
    "  solver = Solver(model, small_data,\n",
    "                  num_epochs=5, batch_size=100,\n",
    "                  update_rule=update_rule,\n",
    "                  optim_config={\n",
    "                    'learning_rate': 5e-3,\n",
    "                  },\n",
    "                  verbose=True)\n",
    "  solvers[update_rule] = solver\n",
    "  solver.train()\n",
    "  print()\n",
    "\n",
    "plt.subplot(3, 1, 1)\n",
    "plt.title('Training loss')\n",
    "plt.xlabel('Iteration')\n",
    "\n",
    "plt.subplot(3, 1, 2)\n",
    "plt.title('Training accuracy')\n",
    "plt.xlabel('Epoch')\n",
    "\n",
    "plt.subplot(3, 1, 3)\n",
    "plt.title('Validation accuracy')\n",
    "plt.xlabel('Epoch')\n",
    "\n",
    "for update_rule, solver in solvers.items():\n",
    "  plt.subplot(3, 1, 1)\n",
    "  plt.plot(solver.loss_history, 'o', label=\"loss_%s\" % update_rule)\n",
    "  \n",
    "  plt.subplot(3, 1, 2)\n",
    "  plt.plot(solver.train_acc_history, '-o', label=\"train_acc_%s\" % update_rule)\n",
    "\n",
    "  plt.subplot(3, 1, 3)\n",
    "  plt.plot(solver.val_acc_history, '-o', label=\"val_acc_%s\" % update_rule)\n",
    "  \n",
    "for i in [1, 2, 3]:\n",
    "  plt.subplot(3, 1, i)\n",
    "  plt.legend(loc='upper center', ncol=4)\n",
    "plt.gcf().set_size_inches(15, 15)\n",
    "plt.show()"
   ]
  },
  {
   "cell_type": "markdown",
   "metadata": {},
   "source": [
    "# RMSProp and Adam\n",
    "RMSProp [1] and Adam [2] are update rules that set per-parameter learning rates by using a running average of the second moments of gradients.\n",
    "\n",
    "In the file `cs231n/optim.py`, implement the RMSProp update rule in the `rmsprop` function and implement the Adam update rule in the `adam` function, and check your implementations using the tests below.\n",
    "\n",
    "**NOTE:** Please implement the _complete_ Adam update rule (with the bias correction mechanism), not the first simplified version mentioned in the course notes. \n",
    "\n",
    "[1] Tijmen Tieleman and Geoffrey Hinton. \"Lecture 6.5-rmsprop: Divide the gradient by a running average of its recent magnitude.\" COURSERA: Neural Networks for Machine Learning 4 (2012).\n",
    "\n",
    "[2] Diederik Kingma and Jimmy Ba, \"Adam: A Method for Stochastic Optimization\", ICLR 2015."
   ]
  },
  {
   "cell_type": "code",
   "execution_count": 48,
   "metadata": {
    "scrolled": false
   },
   "outputs": [
    {
     "name": "stdout",
     "output_type": "stream",
     "text": [
      "next_w error:  9.524687511038133e-08\n",
      "cache error:  2.6477955807156126e-09\n"
     ]
    }
   ],
   "source": [
    "# Test RMSProp implementation\n",
    "from cs231n.optim import rmsprop\n",
    "\n",
    "N, D = 4, 5\n",
    "w = np.linspace(-0.4, 0.6, num=N*D).reshape(N, D)\n",
    "dw = np.linspace(-0.6, 0.4, num=N*D).reshape(N, D)\n",
    "cache = np.linspace(0.6, 0.9, num=N*D).reshape(N, D)\n",
    "\n",
    "config = {'learning_rate': 1e-2, 'cache': cache}\n",
    "next_w, _ = rmsprop(w, dw, config=config)\n",
    "\n",
    "expected_next_w = np.asarray([\n",
    "  [-0.39223849, -0.34037513, -0.28849239, -0.23659121, -0.18467247],\n",
    "  [-0.132737,   -0.08078555, -0.02881884,  0.02316247,  0.07515774],\n",
    "  [ 0.12716641,  0.17918792,  0.23122175,  0.28326742,  0.33532447],\n",
    "  [ 0.38739248,  0.43947102,  0.49155973,  0.54365823,  0.59576619]])\n",
    "expected_cache = np.asarray([\n",
    "  [ 0.5976,      0.6126277,   0.6277108,   0.64284931,  0.65804321],\n",
    "  [ 0.67329252,  0.68859723,  0.70395734,  0.71937285,  0.73484377],\n",
    "  [ 0.75037008,  0.7659518,   0.78158892,  0.79728144,  0.81302936],\n",
    "  [ 0.82883269,  0.84469141,  0.86060554,  0.87657507,  0.8926    ]])\n",
    "\n",
    "# You should see relative errors around e-7 or less\n",
    "print('next_w error: ', rel_error(expected_next_w, next_w))\n",
    "print('cache error: ', rel_error(expected_cache, config['cache']))"
   ]
  },
  {
   "cell_type": "code",
   "execution_count": 49,
   "metadata": {},
   "outputs": [
    {
     "name": "stdout",
     "output_type": "stream",
     "text": [
      "next_w error:  1.1395691798535431e-07\n",
      "v error:  4.208314038113071e-09\n",
      "m error:  4.214963193114416e-09\n"
     ]
    }
   ],
   "source": [
    "# Test Adam implementation\n",
    "from cs231n.optim import adam\n",
    "\n",
    "N, D = 4, 5\n",
    "w = np.linspace(-0.4, 0.6, num=N*D).reshape(N, D)\n",
    "dw = np.linspace(-0.6, 0.4, num=N*D).reshape(N, D)\n",
    "m = np.linspace(0.6, 0.9, num=N*D).reshape(N, D)\n",
    "v = np.linspace(0.7, 0.5, num=N*D).reshape(N, D)\n",
    "\n",
    "config = {'learning_rate': 1e-2, 'm': m, 'v': v, 't': 5}\n",
    "next_w, _ = adam(w, dw, config=config)\n",
    "\n",
    "expected_next_w = np.asarray([\n",
    "  [-0.40094747, -0.34836187, -0.29577703, -0.24319299, -0.19060977],\n",
    "  [-0.1380274,  -0.08544591, -0.03286534,  0.01971428,  0.0722929],\n",
    "  [ 0.1248705,   0.17744702,  0.23002243,  0.28259667,  0.33516969],\n",
    "  [ 0.38774145,  0.44031188,  0.49288093,  0.54544852,  0.59801459]])\n",
    "expected_v = np.asarray([\n",
    "  [ 0.69966,     0.68908382,  0.67851319,  0.66794809,  0.65738853,],\n",
    "  [ 0.64683452,  0.63628604,  0.6257431,   0.61520571,  0.60467385,],\n",
    "  [ 0.59414753,  0.58362676,  0.57311152,  0.56260183,  0.55209767,],\n",
    "  [ 0.54159906,  0.53110598,  0.52061845,  0.51013645,  0.49966,   ]])\n",
    "expected_m = np.asarray([\n",
    "  [ 0.48,        0.49947368,  0.51894737,  0.53842105,  0.55789474],\n",
    "  [ 0.57736842,  0.59684211,  0.61631579,  0.63578947,  0.65526316],\n",
    "  [ 0.67473684,  0.69421053,  0.71368421,  0.73315789,  0.75263158],\n",
    "  [ 0.77210526,  0.79157895,  0.81105263,  0.83052632,  0.85      ]])\n",
    "\n",
    "# You should see relative errors around e-7 or less\n",
    "print('next_w error: ', rel_error(expected_next_w, next_w))\n",
    "print('v error: ', rel_error(expected_v, config['v']))\n",
    "print('m error: ', rel_error(expected_m, config['m']))"
   ]
  },
  {
   "cell_type": "markdown",
   "metadata": {},
   "source": [
    "Once you have debugged your RMSProp and Adam implementations, run the following to train a pair of deep networks using these new update rules:"
   ]
  },
  {
   "cell_type": "code",
   "execution_count": 50,
   "metadata": {},
   "outputs": [
    {
     "name": "stdout",
     "output_type": "stream",
     "text": [
      "running with  adam\n",
      "(Iteration 1 / 200) loss: 2.603408\n",
      "(Epoch 0 / 5) train acc: 0.115000; val_acc: 0.101000\n",
      "(Iteration 11 / 200) loss: 2.090346\n",
      "(Iteration 21 / 200) loss: 1.952897\n",
      "(Iteration 31 / 200) loss: 1.928727\n",
      "(Epoch 1 / 5) train acc: 0.341000; val_acc: 0.311000\n",
      "(Iteration 41 / 200) loss: 1.664126\n",
      "(Iteration 51 / 200) loss: 1.638826\n",
      "(Iteration 61 / 200) loss: 1.683695\n",
      "(Iteration 71 / 200) loss: 1.433815\n",
      "(Epoch 2 / 5) train acc: 0.407000; val_acc: 0.345000\n",
      "(Iteration 81 / 200) loss: 1.631937\n",
      "(Iteration 91 / 200) loss: 1.699612\n",
      "(Iteration 101 / 200) loss: 1.449331\n",
      "(Iteration 111 / 200) loss: 1.429215\n",
      "(Epoch 3 / 5) train acc: 0.477000; val_acc: 0.367000\n",
      "(Iteration 121 / 200) loss: 1.500007\n",
      "(Iteration 131 / 200) loss: 1.192534\n",
      "(Iteration 141 / 200) loss: 1.444604\n",
      "(Iteration 151 / 200) loss: 1.297255\n",
      "(Epoch 4 / 5) train acc: 0.561000; val_acc: 0.372000\n",
      "(Iteration 161 / 200) loss: 1.342895\n",
      "(Iteration 171 / 200) loss: 1.346423\n",
      "(Iteration 181 / 200) loss: 1.381221\n",
      "(Iteration 191 / 200) loss: 1.252149\n",
      "(Epoch 5 / 5) train acc: 0.607000; val_acc: 0.363000\n",
      "\n",
      "running with  rmsprop\n",
      "(Iteration 1 / 200) loss: 2.706695\n",
      "(Epoch 0 / 5) train acc: 0.124000; val_acc: 0.140000\n",
      "(Iteration 11 / 200) loss: 2.046881\n",
      "(Iteration 21 / 200) loss: 1.941168\n",
      "(Iteration 31 / 200) loss: 1.884745\n",
      "(Epoch 1 / 5) train acc: 0.371000; val_acc: 0.313000\n",
      "(Iteration 41 / 200) loss: 1.843538\n",
      "(Iteration 51 / 200) loss: 1.802836\n",
      "(Iteration 61 / 200) loss: 1.599906\n",
      "(Iteration 71 / 200) loss: 1.702847\n",
      "(Epoch 2 / 5) train acc: 0.427000; val_acc: 0.337000\n",
      "(Iteration 81 / 200) loss: 1.547951\n",
      "(Iteration 91 / 200) loss: 1.569592\n",
      "(Iteration 101 / 200) loss: 1.719985\n",
      "(Iteration 111 / 200) loss: 1.482607\n",
      "(Epoch 3 / 5) train acc: 0.471000; val_acc: 0.347000\n",
      "(Iteration 121 / 200) loss: 1.552800\n",
      "(Iteration 131 / 200) loss: 1.474795\n",
      "(Iteration 141 / 200) loss: 1.557437\n",
      "(Iteration 151 / 200) loss: 1.558266\n",
      "(Epoch 4 / 5) train acc: 0.502000; val_acc: 0.370000\n",
      "(Iteration 161 / 200) loss: 1.544883\n",
      "(Iteration 171 / 200) loss: 1.411351\n",
      "(Iteration 181 / 200) loss: 1.467773\n",
      "(Iteration 191 / 200) loss: 1.440280\n",
      "(Epoch 5 / 5) train acc: 0.556000; val_acc: 0.367000\n",
      "\n"
     ]
    },
    {
     "data": {
      "image/png": "[encoded data removed]",
      "text/plain": [
       "<Figure size 1080x1080 with 3 Axes>"
      ]
     },
     "metadata": {
      "needs_background": "light"
     },
     "output_type": "display_data"
    }
   ],
   "source": [
    "learning_rates = {'rmsprop': 1e-4, 'adam': 1e-3}\n",
    "for update_rule in ['adam', 'rmsprop']:\n",
    "  print('running with ', update_rule)\n",
    "  model = FullyConnectedNet([100, 100, 100, 100, 100], weight_scale=5e-2)\n",
    "\n",
    "  solver = Solver(model, small_data,\n",
    "                  num_epochs=5, batch_size=100,\n",
    "                  update_rule=update_rule,\n",
    "                  optim_config={\n",
    "                    'learning_rate': learning_rates[update_rule]\n",
    "                  },\n",
    "                  verbose=True)\n",
    "  solvers[update_rule] = solver\n",
    "  solver.train()\n",
    "  print()\n",
    "\n",
    "plt.subplot(3, 1, 1)\n",
    "plt.title('Training loss')\n",
    "plt.xlabel('Iteration')\n",
    "\n",
    "plt.subplot(3, 1, 2)\n",
    "plt.title('Training accuracy')\n",
    "plt.xlabel('Epoch')\n",
    "\n",
    "plt.subplot(3, 1, 3)\n",
    "plt.title('Validation accuracy')\n",
    "plt.xlabel('Epoch')\n",
    "\n",
    "for update_rule, solver in list(solvers.items()):\n",
    "  plt.subplot(3, 1, 1)\n",
    "  plt.plot(solver.loss_history, 'o', label=update_rule)\n",
    "  \n",
    "  plt.subplot(3, 1, 2)\n",
    "  plt.plot(solver.train_acc_history, '-o', label=update_rule)\n",
    "\n",
    "  plt.subplot(3, 1, 3)\n",
    "  plt.plot(solver.val_acc_history, '-o', label=update_rule)\n",
    "  \n",
    "for i in [1, 2, 3]:\n",
    "  plt.subplot(3, 1, i)\n",
    "  plt.legend(loc='upper center', ncol=4)\n",
    "plt.gcf().set_size_inches(15, 15)\n",
    "plt.show()"
   ]
  },
  {
   "cell_type": "markdown",
   "metadata": {
    "tags": [
     "pdf-inline"
    ]
   },
   "source": [
    "## Inline Question 3:\n",
    "\n",
    "AdaGrad, like Adam, is a per-parameter optimization method that uses the following update rule:\n",
    "\n",
    "```\n",
    "cache += dw**2\n",
    "w += - learning_rate * dw / (np.sqrt(cache) + eps)\n",
    "```\n",
    "\n",
    "John notices that when he was training a network with AdaGrad that the updates became very small, and that his network was learning slowly. Using your knowledge of the AdaGrad update rule, why do you think the updates would become very small? Would Adam have the same issue?\n",
    "\n",
    "\n",
    "## Answer: \n",
    "Toward the end of the training, the cache becomes very big, bringing learning to a halt.  No, neither AdaM nor RMSProp has this AdaGrad issue because their second order terms decay.\n",
    "\n",
    "It may be clearer in code (I use the simpler code that doesn't take the unbiased estimated m and v for simplicity):\n",
    "```\n",
    "# Adam:\n",
    "def adam_update(x, dx):\n",
    "  v = beta2*v + (1-beta2)*(dx**2)  # <=== we \"forget\" old second-order values at a rate of beta2\n",
    "  x += - learning_rate * m / (np.sqrt(v) + eps)\n",
    "\n",
    "\n",
    "\n",
    "```\n"
   ]
  },
  {
   "cell_type": "markdown",
   "metadata": {},
   "source": [
    "# Train a good model!\n",
    "Train the best fully-connected model that you can on CIFAR-10, storing your best model in the `best_model` variable. We require you to get at least 50% accuracy on the validation set using a fully-connected net.\n",
    "\n",
    "If you are careful it should be possible to get accuracies above 55%, but we don't require it for this part and won't assign extra credit for doing so. Later in the assignment we will ask you to train the best convolutional network that you can on CIFAR-10, and we would prefer that you spend your effort working on convolutional nets rather than fully-connected nets.\n",
    "\n",
    "You might find it useful to complete the `BatchNormalization.ipynb` and `Dropout.ipynb` notebooks before completing this part, since those techniques can help you train powerful models."
   ]
  },
  {
   "cell_type": "code",
   "execution_count": 52,
   "metadata": {
    "scrolled": false
   },
   "outputs": [
    {
     "name": "stdout",
     "output_type": "stream",
     "text": [
      "(Iteration 1 / 4900) loss: 2.340822\n",
      "(Epoch 0 / 10) train acc: 0.104000; val_acc: 0.126000\n",
      "(Iteration 101 / 4900) loss: 1.665418\n",
      "(Iteration 201 / 4900) loss: 1.730503\n",
      "(Iteration 301 / 4900) loss: 1.501399\n",
      "(Iteration 401 / 4900) loss: 1.567504\n",
      "(Epoch 1 / 10) train acc: 0.473000; val_acc: 0.474000\n",
      "(Iteration 501 / 4900) loss: 1.419994\n",
      "(Iteration 601 / 4900) loss: 1.548308\n",
      "(Iteration 701 / 4900) loss: 1.546936\n",
      "(Iteration 801 / 4900) loss: 1.351298\n",
      "(Iteration 901 / 4900) loss: 1.442296\n",
      "(Epoch 2 / 10) train acc: 0.503000; val_acc: 0.491000\n",
      "(Iteration 1001 / 4900) loss: 1.191124\n",
      "(Iteration 1101 / 4900) loss: 1.390894\n",
      "(Iteration 1201 / 4900) loss: 1.394627\n",
      "(Iteration 1301 / 4900) loss: 1.176548\n",
      "(Iteration 1401 / 4900) loss: 1.346930\n",
      "(Epoch 3 / 10) train acc: 0.550000; val_acc: 0.520000\n",
      "(Iteration 1501 / 4900) loss: 1.297477\n",
      "(Iteration 1601 / 4900) loss: 1.201237\n",
      "(Iteration 1701 / 4900) loss: 1.229001\n",
      "(Iteration 1801 / 4900) loss: 1.330065\n",
      "(Iteration 1901 / 4900) loss: 1.210748\n",
      "(Epoch 4 / 10) train acc: 0.545000; val_acc: 0.509000\n",
      "(Iteration 2001 / 4900) loss: 1.293028\n",
      "(Iteration 2101 / 4900) loss: 1.026701\n",
      "(Iteration 2201 / 4900) loss: 1.295622\n",
      "(Iteration 2301 / 4900) loss: 1.091799\n",
      "(Iteration 2401 / 4900) loss: 1.264151\n",
      "(Epoch 5 / 10) train acc: 0.579000; val_acc: 0.517000\n",
      "(Iteration 2501 / 4900) loss: 1.107840\n",
      "(Iteration 2601 / 4900) loss: 1.219279\n",
      "(Iteration 2701 / 4900) loss: 1.191372\n",
      "(Iteration 2801 / 4900) loss: 1.114529\n",
      "(Iteration 2901 / 4900) loss: 1.237672\n",
      "(Epoch 6 / 10) train acc: 0.622000; val_acc: 0.505000\n",
      "(Iteration 3001 / 4900) loss: 0.966100\n",
      "(Iteration 3101 / 4900) loss: 1.288133\n",
      "(Iteration 3201 / 4900) loss: 1.034357\n",
      "(Iteration 3301 / 4900) loss: 1.152668\n",
      "(Iteration 3401 / 4900) loss: 0.944545\n",
      "(Epoch 7 / 10) train acc: 0.634000; val_acc: 0.556000\n",
      "(Iteration 3501 / 4900) loss: 1.024105\n",
      "(Iteration 3601 / 4900) loss: 1.013492\n",
      "(Iteration 3701 / 4900) loss: 1.089580\n",
      "(Iteration 3801 / 4900) loss: 1.061839\n",
      "(Iteration 3901 / 4900) loss: 1.218925\n",
      "(Epoch 8 / 10) train acc: 0.643000; val_acc: 0.562000\n",
      "(Iteration 4001 / 4900) loss: 0.972657\n",
      "(Iteration 4101 / 4900) loss: 1.007521\n",
      "(Iteration 4201 / 4900) loss: 0.909687\n",
      "(Iteration 4301 / 4900) loss: 1.027421\n",
      "(Iteration 4401 / 4900) loss: 1.013911\n",
      "(Epoch 9 / 10) train acc: 0.672000; val_acc: 0.535000\n",
      "(Iteration 4501 / 4900) loss: 0.941578\n",
      "(Iteration 4601 / 4900) loss: 1.077533\n",
      "(Iteration 4701 / 4900) loss: 0.880618\n",
      "(Iteration 4801 / 4900) loss: 0.910178\n",
      "(Epoch 10 / 10) train acc: 0.663000; val_acc: 0.541000\n"
     ]
    }
   ],
   "source": [
    "best_model = None\n",
    "################################################################################\n",
    "# TODO: Train the best FullyConnectedNet that you can on CIFAR-10. You might   #\n",
    "# find batch/layer normalization and dropout useful. Store your best model in  #\n",
    "# the best_model variable.                                                     #\n",
    "################################################################################\n",
    "# *****START OF YOUR CODE (DO NOT DELETE/MODIFY THIS LINE)*****\n",
    "\n",
    "# TODO: Use a five-layer Net to overfit 50 training examples by \n",
    "# tweaking just the learning rate and initialization scale.\n",
    "\n",
    "bs    = 100\n",
    "epochs=  10\n",
    "ws    = weight_scale  = 3.872881e-02  #9e-2  # Experiment with this!\n",
    "lr    = learning_rate = 1.956705e-03  #5e-3  # Experiment with this!             # was 1e-4 initially.  1e-3 made the loss at least go down.  1e-2 got us to 100% training accuracy (0.19 val_acc, though; overfitting)\n",
    "\n",
    "# without batchnorm & with this default setting, best validation acc was 49.8 %   (best_test_acc == '49.2')\n",
    "\n",
    "model = FullyConnectedNet(\n",
    "    hidden_dims=[100, 100, 100, 100],\n",
    "    normalization='batchnorm',\n",
    "    weight_scale=weight_scale,\n",
    "    dtype=np.float64)\n",
    "solver = Solver(model, data,\n",
    "                print_every=100,\n",
    "                num_epochs=epochs,\n",
    "                batch_size=bs,\n",
    "                update_rule='adam',\n",
    "                optim_config={\n",
    "                  'learning_rate': lr,\n",
    "                    'beta1': 0.9,\n",
    "                    'beta2': 0.999,\n",
    "                    'epsilon': 1e-8\n",
    "                }\n",
    "         )\n",
    "solver.train()\n",
    "\n",
    "\n",
    "# *****END OF YOUR CODE (DO NOT DELETE/MODIFY THIS LINE)*****\n",
    "################################################################################\n",
    "#                              END OF YOUR CODE                                #\n",
    "################################################################################"
   ]
  },
  {
   "cell_type": "markdown",
   "metadata": {},
   "source": [
    "# Test your model!\n",
    "Run your best model on the validation and test sets. You should achieve above 50% accuracy on the validation set."
   ]
  },
  {
   "cell_type": "code",
   "execution_count": 58,
   "metadata": {},
   "outputs": [],
   "source": [
    "best_model=solver.model"
   ]
  },
  {
   "cell_type": "code",
   "execution_count": 59,
   "metadata": {},
   "outputs": [
    {
     "name": "stdout",
     "output_type": "stream",
     "text": [
      "Validation set accuracy:  0.532\n",
      "Test set accuracy:  0.522\n"
     ]
    }
   ],
   "source": [
    "y_test_pred = np.argmax(best_model.loss(data['X_test']), axis=1)\n",
    "y_val_pred  = np.argmax(best_model.loss(data['X_val' ]), axis=1)\n",
    "print('Validation set accuracy: ', (y_val_pred == data['y_val']).mean())\n",
    "print('Test set accuracy: ', (y_test_pred == data['y_test']).mean())"
   ]
  },
  {
   "cell_type": "code",
   "execution_count": 57,
   "metadata": {},
   "outputs": [],
   "source": [
    "import pickle as pkl\n",
    "pkl_fname=\"5_layer_net___FullyConnectedNets_assn2___lr_is_{0}___and_weight_scale_is_{1}.pkl\".format(\n",
    "  lr, ws)\n",
    "with open(pkl_fname, \"wb\") as fp:\n",
    "    pkl.dump(best_model, fp)"
   ]
  },
  {
   "cell_type": "code",
   "execution_count": null,
   "metadata": {},
   "outputs": [],
   "source": []
  },
  {
   "cell_type": "code",
   "execution_count": 51,
   "metadata": {},
   "outputs": [
    {
     "data": {
      "text/plain": [
       "dict_keys(['X_val', 'y_val', 'X_test', 'X_train', 'y_train', 'y_test'])"
      ]
     },
     "execution_count": 51,
     "metadata": {},
     "output_type": "execute_result"
    }
   ],
   "source": [
    "data.keys()"
   ]
  },
  {
   "cell_type": "markdown",
   "metadata": {},
   "source": [
    "dir(best_model)"
   ]
  },
  {
   "cell_type": "markdown",
   "metadata": {},
   "source": [
    "# come back once you've done Dropout() and Batch_norm(), and it should work better."
   ]
  },
  {
   "cell_type": "code",
   "execution_count": null,
   "metadata": {},
   "outputs": [],
   "source": []
  }
 ],
 "metadata": {
  "kernelspec": {
   "display_name": "Python 3",
   "language": "python",
   "name": "python3"
  },
  "language_info": {
   "codemirror_mode": {
    "name": "ipython",
    "version": 3
   },
   "file_extension": ".py",
   "mimetype": "text/x-python",
   "name": "python",
   "nbconvert_exporter": "python",
   "pygments_lexer": "ipython3",
   "version": "3.5.3"
  }
 },
 "nbformat": 4,
 "nbformat_minor": 2
}
